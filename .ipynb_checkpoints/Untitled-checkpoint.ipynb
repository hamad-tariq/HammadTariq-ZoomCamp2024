{
 "cells": [
  {
   "cell_type": "code",
   "execution_count": 1,
   "id": "9e781bd6-6446-47ce-93cb-a702a5f75bec",
   "metadata": {},
   "outputs": [
    {
     "name": "stdout",
     "output_type": "stream",
     "text": [
      "Hello World! This is my CodeSpace 'fuzzy winner'...\n"
     ]
    }
   ],
   "source": [
    "print (\"Hello World! This is my CodeSpace 'fuzzy winner'...\")"
   ]
  },
  {
   "cell_type": "code",
   "execution_count": null,
   "id": "eb74b4c5-e287-4768-8ab5-12538de64fd5",
   "metadata": {},
   "outputs": [],
   "source": []
  }
 ],
 "metadata": {
  "kernelspec": {
   "display_name": "Python 3 (ipykernel)",
   "language": "python",
   "name": "python3"
  },
  "language_info": {
   "codemirror_mode": {
    "name": "ipython",
    "version": 3
   },
   "file_extension": ".py",
   "mimetype": "text/x-python",
   "name": "python",
   "nbconvert_exporter": "python",
   "pygments_lexer": "ipython3",
   "version": "3.10.13"
  }
 },
 "nbformat": 4,
 "nbformat_minor": 5
}
